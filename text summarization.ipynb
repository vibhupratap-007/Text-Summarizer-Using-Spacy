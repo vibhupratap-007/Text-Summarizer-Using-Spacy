{
 "cells": [
  {
   "cell_type": "code",
   "execution_count": 1,
   "id": "8734c80a",
   "metadata": {},
   "outputs": [],
   "source": [
    "import spacy\n",
    "from spacy.lang.en.stop_words import STOP_WORDS\n",
    "from string import punctuation\n",
    "from collections import Counter\n",
    "from heapq import nlargest"
   ]
  },
  {
   "cell_type": "code",
   "execution_count": 2,
   "id": "ebb30a15",
   "metadata": {},
   "outputs": [],
   "source": [
    "#Loading the model (English) into spaCy"
   ]
  },
  {
   "cell_type": "code",
   "execution_count": 3,
   "id": "10ce2ec7",
   "metadata": {},
   "outputs": [],
   "source": [
    "nlp = spacy.load('en_core_web_sm')"
   ]
  },
  {
   "cell_type": "code",
   "execution_count": 4,
   "id": "d8a2a010",
   "metadata": {},
   "outputs": [],
   "source": [
    "doc = nlp('Machine learning (ML) is the scientific study of algorithms and statistical models that computer systems use to progressively improve their performance on a specific task. Machine learning algorithms build a mathematical model of sample data, known as “training data”, in order to make predictions or decisions without being explicitly programmed to perform the task.Machine learning algorithms are used in the applications of email filtering, detection of network intruders, and computer vision, where it is infeasible to develop an algorithm of specific instructions for performing the task. Machine learning is closely related to computational statistics, which focuses on making predictions using computers.The study of mathematical optimization delivers methods, theory and application domains to the field of machine learning.Data mining is a field of study within machine learning and focuses on exploratory data analysis through unsupervised learning.In its application across business problems, machine learning is also referred to as predictive analytics.')"
   ]
  },
  {
   "cell_type": "code",
   "execution_count": 5,
   "id": "bbdf5349",
   "metadata": {},
   "outputs": [],
   "source": [
    "#Finding the number of sentences in the document"
   ]
  },
  {
   "cell_type": "code",
   "execution_count": 6,
   "id": "9133227d",
   "metadata": {},
   "outputs": [
    {
     "data": {
      "text/plain": [
       "7"
      ]
     },
     "execution_count": 6,
     "metadata": {},
     "output_type": "execute_result"
    }
   ],
   "source": [
    "len(list(doc.sents))\n"
   ]
  },
  {
   "cell_type": "code",
   "execution_count": 7,
   "id": "9acbc396",
   "metadata": {},
   "outputs": [],
   "source": [
    "#Filtering the tokens"
   ]
  },
  {
   "cell_type": "code",
   "execution_count": 8,
   "id": "82042c25",
   "metadata": {},
   "outputs": [],
   "source": [
    "keyword = []\n",
    "stopwords = list(STOP_WORDS)\n",
    "pos_tag = ['PROPN','ADJ','NOUN','VERB']\n",
    "for token in doc:\n",
    "    if(token.text in stopwords or token.text in punctuation):\n",
    "        continue \n",
    "    if(token.pos_ in pos_tag):\n",
    "        keyword.append(token.text)"
   ]
  },
  {
   "cell_type": "code",
   "execution_count": 9,
   "id": "763dffdb",
   "metadata": {},
   "outputs": [],
   "source": [
    "#Calculating the frequency of each token using \"Counter\" function"
   ]
  },
  {
   "cell_type": "code",
   "execution_count": 10,
   "id": "8febd797",
   "metadata": {},
   "outputs": [
    {
     "data": {
      "text/plain": [
       "[('learning', 8),\n",
       " ('Machine', 4),\n",
       " ('study', 3),\n",
       " ('algorithms', 3),\n",
       " ('task', 3),\n",
       " ('data', 3),\n",
       " ('machine', 3),\n",
       " ('computer', 2)]"
      ]
     },
     "execution_count": 10,
     "metadata": {},
     "output_type": "execute_result"
    }
   ],
   "source": [
    "freq_word = Counter(keyword)\n",
    "freq_word.most_common(8)"
   ]
  },
  {
   "cell_type": "code",
   "execution_count": 11,
   "id": "f3080f10",
   "metadata": {},
   "outputs": [],
   "source": [
    "#Normalization"
   ]
  },
  {
   "cell_type": "markdown",
   "id": "f93fbea2",
   "metadata": {},
   "source": []
  },
  {
   "cell_type": "code",
   "execution_count": 12,
   "id": "3a4672d6",
   "metadata": {},
   "outputs": [
    {
     "data": {
      "text/plain": [
       "[('learning', 1.0),\n",
       " ('Machine', 0.5),\n",
       " ('study', 0.375),\n",
       " ('algorithms', 0.375),\n",
       " ('task', 0.375)]"
      ]
     },
     "execution_count": 12,
     "metadata": {},
     "output_type": "execute_result"
    }
   ],
   "source": [
    "max_freq = Counter(keyword).most_common(1)[0][1]\n",
    "for word in freq_word.keys():\n",
    "    freq_word[word] = (freq_word[word]/max_freq)\n",
    "freq_word.most_common(5)"
   ]
  },
  {
   "cell_type": "code",
   "execution_count": 13,
   "id": "eef216f2",
   "metadata": {},
   "outputs": [],
   "source": [
    "#This is the major part where each sentence is weighed based on the frequency of the token present in each sentence. The result is stored as a key-value pair in sent_strength where keys are the sentences in the string doc and the values are the weight of each sentence."
   ]
  },
  {
   "cell_type": "code",
   "execution_count": 14,
   "id": "06279ef5",
   "metadata": {},
   "outputs": [],
   "source": [
    "#Weighing Sentences"
   ]
  },
  {
   "cell_type": "code",
   "execution_count": 15,
   "id": "807864f1",
   "metadata": {},
   "outputs": [
    {
     "name": "stdout",
     "output_type": "stream",
     "text": [
      "{Machine learning (ML) is the scientific study of algorithms and statistical models that computer systems use to progressively improve their performance on a specific task.: 4.125, Machine learning algorithms build a mathematical model of sample data, known as “training data”, in order to make predictions or decisions without being explicitly programmed to perform the task.: 4.625, Machine learning algorithms are used in the applications of email filtering, detection of network intruders, and computer vision, where it is infeasible to develop an algorithm of specific instructions for performing the task.: 4.25, Machine learning is closely related to computational statistics, which focuses on making predictions using computers.: 2.625, The study of mathematical optimization delivers methods, theory and application domains to the field of machine learning.: 3.125, Data mining is a field of study within machine learning and focuses on exploratory data analysis through unsupervised learning.: 4.25, In its application across business problems, machine learning is also referred to as predictive analytics.: 2.25}\n"
     ]
    }
   ],
   "source": [
    "sent_strength={}\n",
    "for sent in doc.sents:\n",
    "    for word in sent:\n",
    "        if word.text in freq_word.keys():\n",
    "            if sent in sent_strength.keys():\n",
    "                sent_strength[sent]+=freq_word[word.text]\n",
    "            else:\n",
    "                sent_strength[sent]=freq_word[word.text]\n",
    "print(sent_strength)"
   ]
  },
  {
   "cell_type": "code",
   "execution_count": 16,
   "id": "7261d475",
   "metadata": {},
   "outputs": [],
   "source": [
    "#Summarizing the string"
   ]
  },
  {
   "cell_type": "code",
   "execution_count": 17,
   "id": "4548d2a2",
   "metadata": {},
   "outputs": [
    {
     "name": "stdout",
     "output_type": "stream",
     "text": [
      "[Machine learning algorithms build a mathematical model of sample data, known as “training data”, in order to make predictions or decisions without being explicitly programmed to perform the task., Machine learning algorithms are used in the applications of email filtering, detection of network intruders, and computer vision, where it is infeasible to develop an algorithm of specific instructions for performing the task., Data mining is a field of study within machine learning and focuses on exploratory data analysis through unsupervised learning.]\n"
     ]
    }
   ],
   "source": [
    "summarized_sentences = nlargest(3, sent_strength, key=sent_strength.get)\n",
    "print(summarized_sentences)"
   ]
  },
  {
   "cell_type": "code",
   "execution_count": 18,
   "id": "66c6d116",
   "metadata": {},
   "outputs": [
    {
     "name": "stdout",
     "output_type": "stream",
     "text": [
      "<class 'spacy.tokens.span.Span'>\n"
     ]
    }
   ],
   "source": [
    "print(type(summarized_sentences[0]))"
   ]
  },
  {
   "cell_type": "code",
   "execution_count": 19,
   "id": "237a1306",
   "metadata": {},
   "outputs": [
    {
     "name": "stdout",
     "output_type": "stream",
     "text": [
      "Machine learning algorithms build a mathematical model of sample data, known as “training data”, in order to make predictions or decisions without being explicitly programmed to perform the task. Machine learning algorithms are used in the applications of email filtering, detection of network intruders, and computer vision, where it is infeasible to develop an algorithm of specific instructions for performing the task. Data mining is a field of study within machine learning and focuses on exploratory data analysis through unsupervised learning.\n"
     ]
    }
   ],
   "source": [
    "final_sentences = [ w.text for w in summarized_sentences ]\n",
    "summary = ' '.join(final_sentences)\n",
    "print(summary)"
   ]
  },
  {
   "cell_type": "code",
   "execution_count": null,
   "id": "ac3465aa",
   "metadata": {},
   "outputs": [],
   "source": []
  }
 ],
 "metadata": {
  "kernelspec": {
   "display_name": "Python 3 (ipykernel)",
   "language": "python",
   "name": "python3"
  },
  "language_info": {
   "codemirror_mode": {
    "name": "ipython",
    "version": 3
   },
   "file_extension": ".py",
   "mimetype": "text/x-python",
   "name": "python",
   "nbconvert_exporter": "python",
   "pygments_lexer": "ipython3",
   "version": "3.11.5"
  }
 },
 "nbformat": 4,
 "nbformat_minor": 5
}
