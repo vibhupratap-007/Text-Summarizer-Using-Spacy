{
 "cells": [
  {
   "cell_type": "code",
   "execution_count": 2,
   "id": "1abe0fb5",
   "metadata": {},
   "outputs": [
    {
     "name": "stdout",
     "output_type": "stream",
     "text": [
      "Collecting spacy\n",
      "  Downloading spacy-3.8.7-cp313-cp313-win_amd64.whl.metadata (28 kB)\n",
      "Collecting spacy-legacy<3.1.0,>=3.0.11 (from spacy)\n",
      "  Downloading spacy_legacy-3.0.12-py2.py3-none-any.whl.metadata (2.8 kB)\n",
      "Collecting spacy-loggers<2.0.0,>=1.0.0 (from spacy)\n",
      "  Downloading spacy_loggers-1.0.5-py3-none-any.whl.metadata (23 kB)\n",
      "Collecting murmurhash<1.1.0,>=0.28.0 (from spacy)\n",
      "  Downloading murmurhash-1.0.13-cp313-cp313-win_amd64.whl.metadata (2.2 kB)\n",
      "Collecting cymem<2.1.0,>=2.0.2 (from spacy)\n",
      "  Downloading cymem-2.0.11-cp313-cp313-win_amd64.whl.metadata (8.8 kB)\n",
      "Collecting preshed<3.1.0,>=3.0.2 (from spacy)\n",
      "  Downloading preshed-3.0.10-cp313-cp313-win_amd64.whl.metadata (2.5 kB)\n",
      "Collecting thinc<8.4.0,>=8.3.4 (from spacy)\n",
      "  Downloading thinc-8.3.6-cp313-cp313-win_amd64.whl.metadata (15 kB)\n",
      "Collecting wasabi<1.2.0,>=0.9.1 (from spacy)\n",
      "  Downloading wasabi-1.1.3-py3-none-any.whl.metadata (28 kB)\n",
      "Collecting srsly<3.0.0,>=2.4.3 (from spacy)\n",
      "  Downloading srsly-2.5.1-cp313-cp313-win_amd64.whl.metadata (20 kB)\n",
      "Collecting catalogue<2.1.0,>=2.0.6 (from spacy)\n",
      "  Downloading catalogue-2.0.10-py3-none-any.whl.metadata (14 kB)\n",
      "Collecting weasel<0.5.0,>=0.1.0 (from spacy)\n",
      "  Downloading weasel-0.4.1-py3-none-any.whl.metadata (4.6 kB)\n",
      "Requirement already satisfied: typer<1.0.0,>=0.3.0 in c:\\users\\sk\\anaconda3\\lib\\site-packages (from spacy) (0.9.0)\n",
      "Requirement already satisfied: tqdm<5.0.0,>=4.38.0 in c:\\users\\sk\\anaconda3\\lib\\site-packages (from spacy) (4.67.1)\n",
      "Requirement already satisfied: numpy>=1.19.0 in c:\\users\\sk\\anaconda3\\lib\\site-packages (from spacy) (2.1.3)\n",
      "Requirement already satisfied: requests<3.0.0,>=2.13.0 in c:\\users\\sk\\anaconda3\\lib\\site-packages (from spacy) (2.32.3)\n",
      "Requirement already satisfied: pydantic!=1.8,!=1.8.1,<3.0.0,>=1.7.4 in c:\\users\\sk\\anaconda3\\lib\\site-packages (from spacy) (2.10.3)\n",
      "Requirement already satisfied: jinja2 in c:\\users\\sk\\anaconda3\\lib\\site-packages (from spacy) (3.1.6)\n",
      "Requirement already satisfied: setuptools in c:\\users\\sk\\anaconda3\\lib\\site-packages (from spacy) (72.1.0)\n",
      "Requirement already satisfied: packaging>=20.0 in c:\\users\\sk\\anaconda3\\lib\\site-packages (from spacy) (24.2)\n",
      "Collecting langcodes<4.0.0,>=3.2.0 (from spacy)\n",
      "  Downloading langcodes-3.5.0-py3-none-any.whl.metadata (29 kB)\n",
      "Collecting language-data>=1.2 (from langcodes<4.0.0,>=3.2.0->spacy)\n",
      "  Downloading language_data-1.3.0-py3-none-any.whl.metadata (4.3 kB)\n",
      "Requirement already satisfied: annotated-types>=0.6.0 in c:\\users\\sk\\anaconda3\\lib\\site-packages (from pydantic!=1.8,!=1.8.1,<3.0.0,>=1.7.4->spacy) (0.6.0)\n",
      "Requirement already satisfied: pydantic-core==2.27.1 in c:\\users\\sk\\anaconda3\\lib\\site-packages (from pydantic!=1.8,!=1.8.1,<3.0.0,>=1.7.4->spacy) (2.27.1)\n",
      "Requirement already satisfied: typing-extensions>=4.12.2 in c:\\users\\sk\\anaconda3\\lib\\site-packages (from pydantic!=1.8,!=1.8.1,<3.0.0,>=1.7.4->spacy) (4.12.2)\n",
      "Requirement already satisfied: charset-normalizer<4,>=2 in c:\\users\\sk\\anaconda3\\lib\\site-packages (from requests<3.0.0,>=2.13.0->spacy) (3.3.2)\n",
      "Requirement already satisfied: idna<4,>=2.5 in c:\\users\\sk\\anaconda3\\lib\\site-packages (from requests<3.0.0,>=2.13.0->spacy) (3.7)\n",
      "Requirement already satisfied: urllib3<3,>=1.21.1 in c:\\users\\sk\\anaconda3\\lib\\site-packages (from requests<3.0.0,>=2.13.0->spacy) (2.3.0)\n",
      "Requirement already satisfied: certifi>=2017.4.17 in c:\\users\\sk\\anaconda3\\lib\\site-packages (from requests<3.0.0,>=2.13.0->spacy) (2025.8.3)\n",
      "Collecting blis<1.4.0,>=1.3.0 (from thinc<8.4.0,>=8.3.4->spacy)\n",
      "  Downloading blis-1.3.0-cp313-cp313-win_amd64.whl.metadata (7.6 kB)\n",
      "Collecting confection<1.0.0,>=0.0.1 (from thinc<8.4.0,>=8.3.4->spacy)\n",
      "  Downloading confection-0.1.5-py3-none-any.whl.metadata (19 kB)\n",
      "Requirement already satisfied: colorama in c:\\users\\sk\\anaconda3\\lib\\site-packages (from tqdm<5.0.0,>=4.38.0->spacy) (0.4.6)\n",
      "Requirement already satisfied: click<9.0.0,>=7.1.1 in c:\\users\\sk\\anaconda3\\lib\\site-packages (from typer<1.0.0,>=0.3.0->spacy) (8.1.8)\n",
      "Collecting cloudpathlib<1.0.0,>=0.7.0 (from weasel<0.5.0,>=0.1.0->spacy)\n",
      "  Downloading cloudpathlib-0.22.0-py3-none-any.whl.metadata (16 kB)\n",
      "Collecting smart-open<8.0.0,>=5.2.1 (from weasel<0.5.0,>=0.1.0->spacy)\n",
      "  Downloading smart_open-7.3.1-py3-none-any.whl.metadata (24 kB)\n",
      "Requirement already satisfied: wrapt in c:\\users\\sk\\anaconda3\\lib\\site-packages (from smart-open<8.0.0,>=5.2.1->weasel<0.5.0,>=0.1.0->spacy) (1.17.0)\n",
      "Collecting marisa-trie>=1.1.0 (from language-data>=1.2->langcodes<4.0.0,>=3.2.0->spacy)\n",
      "  Downloading marisa_trie-1.3.1-cp313-cp313-win_amd64.whl.metadata (10 kB)\n",
      "Requirement already satisfied: MarkupSafe>=2.0 in c:\\users\\sk\\anaconda3\\lib\\site-packages (from jinja2->spacy) (3.0.2)\n",
      "Downloading spacy-3.8.7-cp313-cp313-win_amd64.whl (13.9 MB)\n",
      "   ---------------------------------------- 0.0/13.9 MB ? eta -:--:--\n",
      "   ------- -------------------------------- 2.6/13.9 MB 13.6 MB/s eta 0:00:01\n",
      "   --------------- ------------------------ 5.5/13.9 MB 14.2 MB/s eta 0:00:01\n",
      "   -------------------------- ------------- 9.2/13.9 MB 15.3 MB/s eta 0:00:01\n",
      "   ---------------------------------- ----- 12.1/13.9 MB 14.7 MB/s eta 0:00:01\n",
      "   ---------------------------------------- 13.9/13.9 MB 14.0 MB/s eta 0:00:00\n",
      "Downloading catalogue-2.0.10-py3-none-any.whl (17 kB)\n",
      "Downloading cymem-2.0.11-cp313-cp313-win_amd64.whl (39 kB)\n",
      "Downloading langcodes-3.5.0-py3-none-any.whl (182 kB)\n",
      "Downloading murmurhash-1.0.13-cp313-cp313-win_amd64.whl (24 kB)\n",
      "Downloading preshed-3.0.10-cp313-cp313-win_amd64.whl (115 kB)\n",
      "Downloading spacy_legacy-3.0.12-py2.py3-none-any.whl (29 kB)\n",
      "Downloading spacy_loggers-1.0.5-py3-none-any.whl (22 kB)\n",
      "Downloading srsly-2.5.1-cp313-cp313-win_amd64.whl (630 kB)\n",
      "   ---------------------------------------- 0.0/630.6 kB ? eta -:--:--\n",
      "   --------------------------------------- 630.6/630.6 kB 19.2 MB/s eta 0:00:00\n",
      "Downloading thinc-8.3.6-cp313-cp313-win_amd64.whl (1.7 MB)\n",
      "   ---------------------------------------- 0.0/1.7 MB ? eta -:--:--\n",
      "   ---------------------------------------- 1.7/1.7 MB 21.2 MB/s eta 0:00:00\n",
      "Downloading blis-1.3.0-cp313-cp313-win_amd64.whl (6.3 MB)\n",
      "   ---------------------------------------- 0.0/6.3 MB ? eta -:--:--\n",
      "   --------------------- ------------------ 3.4/6.3 MB 16.1 MB/s eta 0:00:01\n",
      "   -------------------------------------- - 6.0/6.3 MB 14.7 MB/s eta 0:00:01\n",
      "   ---------------------------------------- 6.3/6.3 MB 13.9 MB/s eta 0:00:00\n",
      "Downloading confection-0.1.5-py3-none-any.whl (35 kB)\n",
      "Downloading wasabi-1.1.3-py3-none-any.whl (27 kB)\n",
      "Downloading weasel-0.4.1-py3-none-any.whl (50 kB)\n",
      "Downloading cloudpathlib-0.22.0-py3-none-any.whl (61 kB)\n",
      "Downloading smart_open-7.3.1-py3-none-any.whl (61 kB)\n",
      "Downloading language_data-1.3.0-py3-none-any.whl (5.4 MB)\n",
      "   ---------------------------------------- 0.0/5.4 MB ? eta -:--:--\n",
      "   ----------------------------- ---------- 3.9/5.4 MB 19.2 MB/s eta 0:00:01\n",
      "   ---------------------------------------- 5.4/5.4 MB 16.2 MB/s eta 0:00:00\n",
      "Downloading marisa_trie-1.3.1-cp313-cp313-win_amd64.whl (139 kB)\n",
      "Installing collected packages: cymem, wasabi, spacy-loggers, spacy-legacy, smart-open, murmurhash, marisa-trie, cloudpathlib, catalogue, blis, srsly, preshed, language-data, langcodes, confection, weasel, thinc, spacy\n",
      "\n",
      "   -------- -------------------------------  4/18 [smart-open]\n",
      "   -------------------- -------------------  9/18 [blis]\n",
      "   ---------------------- ----------------- 10/18 [srsly]\n",
      "   ---------------------- ----------------- 10/18 [srsly]\n",
      "   -------------------------- ------------- 12/18 [language-data]\n",
      "   -------------------------- ------------- 12/18 [language-data]\n",
      "   -------------------------- ------------- 12/18 [language-data]\n",
      "   -------------------------- ------------- 12/18 [language-data]\n",
      "   --------------------------------- ------ 15/18 [weasel]\n",
      "   ----------------------------------- ---- 16/18 [thinc]\n",
      "   ----------------------------------- ---- 16/18 [thinc]\n",
      "   ------------------------------------- -- 17/18 [spacy]\n",
      "   ------------------------------------- -- 17/18 [spacy]\n",
      "   ------------------------------------- -- 17/18 [spacy]\n",
      "   ------------------------------------- -- 17/18 [spacy]\n",
      "   ------------------------------------- -- 17/18 [spacy]\n",
      "   ------------------------------------- -- 17/18 [spacy]\n",
      "   ------------------------------------- -- 17/18 [spacy]\n",
      "   ------------------------------------- -- 17/18 [spacy]\n",
      "   ------------------------------------- -- 17/18 [spacy]\n",
      "   ------------------------------------- -- 17/18 [spacy]\n",
      "   ------------------------------------- -- 17/18 [spacy]\n",
      "   ------------------------------------- -- 17/18 [spacy]\n",
      "   ------------------------------------- -- 17/18 [spacy]\n",
      "   ------------------------------------- -- 17/18 [spacy]\n",
      "   ---------------------------------------- 18/18 [spacy]\n",
      "\n",
      "Successfully installed blis-1.3.0 catalogue-2.0.10 cloudpathlib-0.22.0 confection-0.1.5 cymem-2.0.11 langcodes-3.5.0 language-data-1.3.0 marisa-trie-1.3.1 murmurhash-1.0.13 preshed-3.0.10 smart-open-7.3.1 spacy-3.8.7 spacy-legacy-3.0.12 spacy-loggers-1.0.5 srsly-2.5.1 thinc-8.3.6 wasabi-1.1.3 weasel-0.4.1\n",
      "Note: you may need to restart the kernel to use updated packages.\n"
     ]
    }
   ],
   "source": [
    "pip install spacy"
   ]
  },
  {
   "cell_type": "code",
   "execution_count": 64,
   "id": "8734c80a",
   "metadata": {},
   "outputs": [],
   "source": [
    "import spacy\n",
    "from spacy.lang.en.stop_words import STOP_WORDS\n",
    "from string import punctuation\n",
    "from collections import Counter\n",
    "from heapq import nlargest"
   ]
  },
  {
   "cell_type": "code",
   "execution_count": 65,
   "id": "ebb30a15",
   "metadata": {},
   "outputs": [],
   "source": [
    "#Loading the model (English) into spaCy"
   ]
  },
  {
   "cell_type": "code",
   "execution_count": 6,
   "id": "5ebbaf98",
   "metadata": {},
   "outputs": [
    {
     "name": "stdout",
     "output_type": "stream",
     "text": [
      "Collecting en-core-web-sm==3.8.0\n",
      "  Downloading https://github.com/explosion/spacy-models/releases/download/en_core_web_sm-3.8.0/en_core_web_sm-3.8.0-py3-none-any.whl (12.8 MB)\n",
      "     ---------------------------------------- 0.0/12.8 MB ? eta -:--:--\n",
      "     ------- -------------------------------- 2.4/12.8 MB 13.9 MB/s eta 0:00:01\n",
      "     ------------------ --------------------- 6.0/12.8 MB 15.6 MB/s eta 0:00:01\n",
      "     ---------------------------- ----------- 9.2/12.8 MB 15.3 MB/s eta 0:00:01\n",
      "     ----------------------------------- --- 11.8/12.8 MB 14.8 MB/s eta 0:00:01\n",
      "     --------------------------------------- 12.8/12.8 MB 14.1 MB/s eta 0:00:00\n",
      "Installing collected packages: en-core-web-sm\n",
      "Successfully installed en-core-web-sm-3.8.0\n",
      "\u001b[38;5;2m✔ Download and installation successful\u001b[0m\n",
      "You can now load the package via spacy.load('en_core_web_sm')\n"
     ]
    }
   ],
   "source": [
    "!python -m spacy download en_core_web_sm"
   ]
  },
  {
   "cell_type": "code",
   "execution_count": 7,
   "id": "10ce2ec7",
   "metadata": {},
   "outputs": [],
   "source": [
    "nlp = spacy.load('en_core_web_sm')"
   ]
  },
  {
   "cell_type": "code",
   "execution_count": 66,
   "id": "b7ab56d3",
   "metadata": {},
   "outputs": [],
   "source": [
    "file_path = \"F:/Text-Summarizer-Using-Spacy-main/Text-Summarizer-Using-Spacy-main/doc\"\n"
   ]
  },
  {
   "cell_type": "code",
   "execution_count": null,
   "id": "505aed80",
   "metadata": {},
   "outputs": [
    {
     "name": "stdout",
     "output_type": "stream",
     "text": [
      "Artificial Intelligence (AI) has rapidly transformed various industries by enabling machines to perform tasks that traditionally required human intelligence. From healthcare to finance, AI application\n"
     ]
    }
   ],
   "source": [
    "file_path = \"doc\"   \n",
    "with open(file_path, \"r\", encoding=\"utf-8\") as f:\n",
    "    text = f.read()\n",
    "\n",
    "print(text[:200])  \n"
   ]
  },
  {
   "cell_type": "code",
   "execution_count": 68,
   "id": "375e7aaa",
   "metadata": {},
   "outputs": [],
   "source": [
    "doc = nlp(text)"
   ]
  },
  {
   "cell_type": "code",
   "execution_count": 69,
   "id": "bbdf5349",
   "metadata": {},
   "outputs": [],
   "source": [
    "#Finding the number of sentences in the document"
   ]
  },
  {
   "cell_type": "code",
   "execution_count": 70,
   "id": "9133227d",
   "metadata": {},
   "outputs": [
    {
     "data": {
      "text/plain": [
       "10"
      ]
     },
     "execution_count": 70,
     "metadata": {},
     "output_type": "execute_result"
    }
   ],
   "source": [
    "len(list(doc.sents))\n"
   ]
  },
  {
   "cell_type": "code",
   "execution_count": 71,
   "id": "9acbc396",
   "metadata": {},
   "outputs": [],
   "source": [
    "#Filtering the tokens"
   ]
  },
  {
   "cell_type": "code",
   "execution_count": 72,
   "id": "82042c25",
   "metadata": {},
   "outputs": [],
   "source": [
    "keyword = []\n",
    "stopwords = list(STOP_WORDS)\n",
    "pos_tag = ['PROPN','ADJ','NOUN','VERB']\n",
    "\n",
    "for token in doc:\n",
    "    if token.text.lower() in stopwords or token.text in punctuation:\n",
    "        continue\n",
    "    if token.pos_ in pos_tag:\n",
    "        keyword.append(token.lemma_.lower())\n"
   ]
  },
  {
   "cell_type": "code",
   "execution_count": 73,
   "id": "763dffdb",
   "metadata": {},
   "outputs": [],
   "source": [
    "#Calculating the frequency of each token using \"Counter\" function"
   ]
  },
  {
   "cell_type": "code",
   "execution_count": 74,
   "id": "8febd797",
   "metadata": {},
   "outputs": [
    {
     "data": {
      "text/plain": [
       "[('ai', 9),\n",
       " ('human', 3),\n",
       " ('personalize', 3),\n",
       " ('intelligence', 2),\n",
       " ('healthcare', 2),\n",
       " ('detection', 2),\n",
       " ('financial', 2),\n",
       " ('development', 2)]"
      ]
     },
     "execution_count": 74,
     "metadata": {},
     "output_type": "execute_result"
    }
   ],
   "source": [
    "freq_word = Counter(keyword)\n",
    "freq_word.most_common(8)"
   ]
  },
  {
   "cell_type": "code",
   "execution_count": 75,
   "id": "f3080f10",
   "metadata": {},
   "outputs": [],
   "source": [
    "#Normalization"
   ]
  },
  {
   "cell_type": "code",
   "execution_count": 76,
   "id": "3a4672d6",
   "metadata": {},
   "outputs": [
    {
     "data": {
      "text/plain": [
       "[('ai', 1.0),\n",
       " ('human', 0.3333333333333333),\n",
       " ('personalize', 0.3333333333333333),\n",
       " ('intelligence', 0.2222222222222222),\n",
       " ('healthcare', 0.2222222222222222)]"
      ]
     },
     "execution_count": 76,
     "metadata": {},
     "output_type": "execute_result"
    }
   ],
   "source": [
    "max_freq = freq_word.most_common(1)[0][1]\n",
    "for word in freq_word.keys():\n",
    "    freq_word[word] = freq_word[word] / max_freq\n",
    "freq_word.most_common(5)\n"
   ]
  },
  {
   "cell_type": "code",
   "execution_count": 77,
   "id": "eef216f2",
   "metadata": {},
   "outputs": [],
   "source": [
    "#This is the major part where each sentence is weighed based on the frequency of the token present in each sentence. The result is stored as a key-value pair in sent_strength where keys are the sentences in the string doc and the values are the weight of each sentence."
   ]
  },
  {
   "cell_type": "code",
   "execution_count": 78,
   "id": "06279ef5",
   "metadata": {},
   "outputs": [],
   "source": [
    "#Weighing Sentences"
   ]
  },
  {
   "cell_type": "code",
   "execution_count": null,
   "id": "807864f1",
   "metadata": {},
   "outputs": [
    {
     "name": "stdout",
     "output_type": "stream",
     "text": [
      "{Artificial Intelligence (AI) has rapidly transformed various industries by enabling machines to perform tasks that traditionally required human intelligence.: 0.13333333333333336, From healthcare to finance, AI applications have streamlined processes, improved accuracy, and reduced human effort.: 0.1527777777777778, In healthcare, AI is being used for early disease detection, personalized medicine, and drug discovery.: 0.14583333333333337, Financial institutions employ AI algorithms for fraud detection, risk assessment, and personalized financial advice.\n",
      "\n",
      ": 0.1851851851851852, Education has also seen a major shift with AI-powered tools that provide personalized learning experiences, automate grading, and enhance student engagement.: 0.13131313131313133, Similarly, AI in transportation has led to the development of self-driving cars, predictive maintenance, and optimized logistics.: 0.12345679012345682, While the benefits of AI are enormous, challenges remain, including ethical concerns, job displacement, and the need for robust regulatory frameworks.\n",
      "\n",
      ": 0.11616161616161619, Despite these challenges, the future of AI looks promising.: 0.15555555555555556, Research continues to push boundaries in natural language processing, computer vision, and robotics.: 0.07936507936507939, With responsible development and deployment, AI has the potential to augment human capabilities, create new opportunities, and solve some of the world’s most pressing problems.\n",
      ": 0.11111111111111113}\n"
     ]
    }
   ],
   "source": [
    "sent_strength = {}\n",
    "for sent in doc.sents:\n",
    "    for word in sent:\n",
    "        lemma = word.lemma_.lower()\n",
    "        if lemma in freq_word.keys():\n",
    "            if sent in sent_strength:\n",
    "                sent_strength[sent] += freq_word[lemma]\n",
    "            else:\n",
    "                sent_strength[sent] = freq_word[lemma]\n",
    "\n",
    "\n",
    "for sent in sent_strength:\n",
    "    sent_strength[sent] = sent_strength[sent] / (len(sent.text.split()) + 1)\n",
    "\n",
    "print(sent_strength)\n"
   ]
  },
  {
   "cell_type": "code",
   "execution_count": 80,
   "id": "7261d475",
   "metadata": {},
   "outputs": [],
   "source": [
    "#Summarizing the string"
   ]
  },
  {
   "cell_type": "code",
   "execution_count": null,
   "id": "4548d2a2",
   "metadata": {},
   "outputs": [
    {
     "name": "stdout",
     "output_type": "stream",
     "text": [
      "[From healthcare to finance, AI applications have streamlined processes, improved accuracy, and reduced human effort., Financial institutions employ AI algorithms for fraud detection, risk assessment, and personalized financial advice.\n",
      "\n",
      ", Despite these challenges, the future of AI looks promising.]\n"
     ]
    }
   ],
   "source": [
    "summarized_sentences = nlargest(3, sent_strength, key=sent_strength.get)\n",
    "\n",
    "summarized_sentences = sorted(summarized_sentences, key=lambda s: s.start)\n",
    "\n",
    "print(summarized_sentences)\n"
   ]
  },
  {
   "cell_type": "code",
   "execution_count": 82,
   "id": "66c6d116",
   "metadata": {},
   "outputs": [
    {
     "name": "stdout",
     "output_type": "stream",
     "text": [
      "<class 'spacy.tokens.span.Span'>\n"
     ]
    }
   ],
   "source": [
    "print(type(summarized_sentences[0]))"
   ]
  },
  {
   "cell_type": "code",
   "execution_count": null,
   "id": "237a1306",
   "metadata": {},
   "outputs": [
    {
     "name": "stdout",
     "output_type": "stream",
     "text": [
      "=== Summary ===\n",
      "From healthcare to finance, AI applications have streamlined processes, improved accuracy, and reduced human effort. Financial institutions employ AI algorithms for fraud detection, risk assessment, and personalized financial advice. Despite these challenges, the future of AI looks promising.\n"
     ]
    }
   ],
   "source": [
    "\n",
    "final_sentences = sorted(summarized_sentences, key=lambda s: s.start)\n",
    "\n",
    "\n",
    "summary = \" \".join([s.text.strip() for s in final_sentences])\n",
    "\n",
    "print(\"=== Summary ===\")\n",
    "print(summary)\n"
   ]
  },
  {
   "cell_type": "code",
   "execution_count": null,
   "id": "ac3465aa",
   "metadata": {},
   "outputs": [],
   "source": []
  }
 ],
 "metadata": {
  "kernelspec": {
   "display_name": "base",
   "language": "python",
   "name": "python3"
  },
  "language_info": {
   "codemirror_mode": {
    "name": "ipython",
    "version": 3
   },
   "file_extension": ".py",
   "mimetype": "text/x-python",
   "name": "python",
   "nbconvert_exporter": "python",
   "pygments_lexer": "ipython3",
   "version": "3.13.5"
  }
 },
 "nbformat": 4,
 "nbformat_minor": 5
}
